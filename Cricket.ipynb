{
 "cells": [
  {
   "cell_type": "code",
   "execution_count": 8,
   "metadata": {},
   "outputs": [],
   "source": [
    "# Input \n",
    "score = [1,2,0,0,4,1,6,2,1,3]\n",
    "sumscore = 0"
   ]
  },
  {
   "cell_type": "code",
   "execution_count": 9,
   "metadata": {},
   "outputs": [],
   "source": [
    "# Other Variables\n",
    "scoreboard = {1:0, 2:0}\n",
    "on, off = 1, 2\n",
    "ball = 0\n",
    "over = 0\n",
    "n = 1"
   ]
  },
  {
   "cell_type": "code",
   "execution_count": 10,
   "metadata": {},
   "outputs": [],
   "source": [
    "# Calculating Score\n",
    "for i in score:\n",
    "    ball += 1\n",
    "    if i >= 0:\n",
    "        scoreboard[on] += i\n",
    "    if i % 2 == 1:\n",
    "        on, off = off, on\n",
    "    if ball == 6*n:\n",
    "        n += 1\n",
    "        on, off = off, on\n",
    "        "
   ]
  },
  {
   "cell_type": "code",
   "execution_count": 11,
   "metadata": {},
   "outputs": [
    {
     "name": "stdout",
     "output_type": "stream",
     "text": [
      "The score of batsman 1 is: \n",
      "4\n",
      "The score of batsman 2 is: \n",
      "16\n"
     ]
    }
   ],
   "source": [
    "# Score of Batsmen\n",
    "for k in scoreboard:\n",
    "    print('The score of batsman %d is: '%k)\n",
    "    print(scoreboard[k])"
   ]
  },
  {
   "cell_type": "code",
   "execution_count": 12,
   "metadata": {},
   "outputs": [
    {
     "name": "stdout",
     "output_type": "stream",
     "text": [
      "The total score is: 20\n"
     ]
    }
   ],
   "source": [
    "# Total Score\n",
    "for j in range(0, len(score)):    \n",
    "   sumscore = sumscore + score[j];\n",
    "     \n",
    "print(\"The total score is: \" + str(sumscore));"
   ]
  },
  {
   "cell_type": "code",
   "execution_count": null,
   "metadata": {},
   "outputs": [],
   "source": []
  }
 ],
 "metadata": {
  "kernelspec": {
   "display_name": "Python 3",
   "language": "python",
   "name": "python3"
  },
  "language_info": {
   "codemirror_mode": {
    "name": "ipython",
    "version": 3
   },
   "file_extension": ".py",
   "mimetype": "text/x-python",
   "name": "python",
   "nbconvert_exporter": "python",
   "pygments_lexer": "ipython3",
   "version": "3.7.3"
  }
 },
 "nbformat": 4,
 "nbformat_minor": 2
}
