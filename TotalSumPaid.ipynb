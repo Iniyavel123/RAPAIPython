{
 "cells": [
  {
   "cell_type": "code",
   "execution_count": 6,
   "metadata": {},
   "outputs": [],
   "source": [
    "# Calculate the total sum paid by all people\n",
    "\n",
    "# Function to calculate amount\n",
    "def amtpaid(myinput):\n",
    "    \n",
    "    sum = 0\n",
    "    for i in myinput:\n",
    "        sum = sum + myinput[i]\n",
    "    \n",
    "    return sum"
   ]
  },
  {
   "cell_type": "code",
   "execution_count": 7,
   "metadata": {},
   "outputs": [
    {
     "name": "stdout",
     "output_type": "stream",
     "text": [
      "The total sum paid is:  275\n"
     ]
    }
   ],
   "source": [
    "# Input array\n",
    "input1 = {\"Rick\": 85, \"Amit\": 42, \"George\": 53, \"Tanya\": 60, \"Linda\": 35}\n",
    "print(\"The total sum paid is: \", amtpaid(input1))"
   ]
  },
  {
   "cell_type": "code",
   "execution_count": null,
   "metadata": {},
   "outputs": [],
   "source": []
  }
 ],
 "metadata": {
  "kernelspec": {
   "display_name": "Python 3",
   "language": "python",
   "name": "python3"
  },
  "language_info": {
   "codemirror_mode": {
    "name": "ipython",
    "version": 3
   },
   "file_extension": ".py",
   "mimetype": "text/x-python",
   "name": "python",
   "nbconvert_exporter": "python",
   "pygments_lexer": "ipython3",
   "version": "3.7.3"
  }
 },
 "nbformat": 4,
 "nbformat_minor": 2
}
